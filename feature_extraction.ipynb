{
 "cells": [
  {
   "cell_type": "code",
   "execution_count": 1,
   "id": "3098ba5e-af25-4c7d-8478-bb179971fcea",
   "metadata": {},
   "outputs": [
    {
     "name": "stderr",
     "output_type": "stream",
     "text": [
      "C:\\Users\\13610\\AppData\\Roaming\\Python\\Python39\\site-packages\\tqdm\\auto.py:22: TqdmWarning: IProgress not found. Please update jupyter and ipywidgets. See https://ipywidgets.readthedocs.io/en/stable/user_install.html\n",
      "  from .autonotebook import tqdm as notebook_tqdm\n"
     ]
    }
   ],
   "source": [
    "import spacy\n",
    "import pandas as pd"
   ]
  },
  {
   "cell_type": "code",
   "execution_count": 2,
   "id": "149f74ab-82b6-4488-9bde-7a76b16fa6ad",
   "metadata": {},
   "outputs": [],
   "source": [
    "data_path = \"data/article.txt\"\n",
    "\n",
    "with open(data_path, encoding=\"utf-8\") as f:\n",
    "    content = f.read()\n",
    "\n",
    "nlp = spacy.load(\"en_core_web_sm\")\n",
    "doc = nlp(content)\n",
    "\n",
    "token = [tok.text for tok in doc]\n",
    "constituent = [[t.text for t in tok.subtree] for tok in doc]  # The full constituent starting from a head word\n",
    "head = [tok.head for tok in doc]  # The head of each token\n",
    "dependent = [[t.text for t in tok.children] for tok in doc]  # The dependent(s) of each token\n",
    "dependency = [tok.dep_ for tok in doc]  # The Syntactic dependency relation from each token\n",
    "\n",
    "parse_info = {\"token\": token, \"constituent\": constituent, \"head\": head, \"dependent\": dependent, \"dependency\": dependency}\n",
    "parse = pd.DataFrame.from_dict(parse_info)"
   ]
  },
  {
   "cell_type": "code",
   "execution_count": 3,
   "id": "094a5088-34a3-48bd-aa6b-58f67d50ff47",
   "metadata": {},
   "outputs": [
    {
     "data": {
      "text/html": [
       "<div>\n",
       "<style scoped>\n",
       "    .dataframe tbody tr th:only-of-type {\n",
       "        vertical-align: middle;\n",
       "    }\n",
       "\n",
       "    .dataframe tbody tr th {\n",
       "        vertical-align: top;\n",
       "    }\n",
       "\n",
       "    .dataframe thead th {\n",
       "        text-align: right;\n",
       "    }\n",
       "</style>\n",
       "<table border=\"1\" class=\"dataframe\">\n",
       "  <thead>\n",
       "    <tr style=\"text-align: right;\">\n",
       "      <th></th>\n",
       "      <th>token</th>\n",
       "      <th>constituent</th>\n",
       "      <th>head</th>\n",
       "      <th>dependent</th>\n",
       "      <th>dependency</th>\n",
       "    </tr>\n",
       "  </thead>\n",
       "  <tbody>\n",
       "    <tr>\n",
       "      <th>0</th>\n",
       "      <td>Universities</td>\n",
       "      <td>[Universities, in, the, Netherlands]</td>\n",
       "      <td>looking</td>\n",
       "      <td>[in]</td>\n",
       "      <td>nsubj</td>\n",
       "    </tr>\n",
       "    <tr>\n",
       "      <th>1</th>\n",
       "      <td>in</td>\n",
       "      <td>[in, the, Netherlands]</td>\n",
       "      <td>Universities</td>\n",
       "      <td>[Netherlands]</td>\n",
       "      <td>prep</td>\n",
       "    </tr>\n",
       "    <tr>\n",
       "      <th>2</th>\n",
       "      <td>the</td>\n",
       "      <td>[the]</td>\n",
       "      <td>Netherlands</td>\n",
       "      <td>[]</td>\n",
       "      <td>det</td>\n",
       "    </tr>\n",
       "    <tr>\n",
       "      <th>3</th>\n",
       "      <td>Netherlands</td>\n",
       "      <td>[the, Netherlands]</td>\n",
       "      <td>in</td>\n",
       "      <td>[the]</td>\n",
       "      <td>pobj</td>\n",
       "    </tr>\n",
       "    <tr>\n",
       "      <th>4</th>\n",
       "      <td>are</td>\n",
       "      <td>[are]</td>\n",
       "      <td>looking</td>\n",
       "      <td>[]</td>\n",
       "      <td>aux</td>\n",
       "    </tr>\n",
       "  </tbody>\n",
       "</table>\n",
       "</div>"
      ],
      "text/plain": [
       "          token                           constituent          head  \\\n",
       "0  Universities  [Universities, in, the, Netherlands]       looking   \n",
       "1            in                [in, the, Netherlands]  Universities   \n",
       "2           the                                 [the]   Netherlands   \n",
       "3   Netherlands                    [the, Netherlands]            in   \n",
       "4           are                                 [are]       looking   \n",
       "\n",
       "       dependent dependency  \n",
       "0           [in]      nsubj  \n",
       "1  [Netherlands]       prep  \n",
       "2             []        det  \n",
       "3          [the]       pobj  \n",
       "4             []        aux  "
      ]
     },
     "execution_count": 3,
     "metadata": {},
     "output_type": "execute_result"
    }
   ],
   "source": [
    "parse[:5]"
   ]
  }
 ],
 "metadata": {
  "kernelspec": {
   "display_name": "hlt_env",
   "language": "python",
   "name": "hlt_env"
  },
  "language_info": {
   "codemirror_mode": {
    "name": "ipython",
    "version": 3
   },
   "file_extension": ".py",
   "mimetype": "text/x-python",
   "name": "python",
   "nbconvert_exporter": "python",
   "pygments_lexer": "ipython3",
   "version": "3.9.13"
  }
 },
 "nbformat": 4,
 "nbformat_minor": 5
}
